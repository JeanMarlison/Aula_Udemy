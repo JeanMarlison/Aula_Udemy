{
 "cells": [
  {
   "cell_type": "code",
   "execution_count": 55,
   "id": "903902dd",
   "metadata": {},
   "outputs": [],
   "source": [
    "import numpy as np\n",
    "# import sys #Para ver o tamanho em bytes"
   ]
  },
  {
   "cell_type": "markdown",
   "id": "c84bc274",
   "metadata": {},
   "source": [
    "### Criando 1° Array(Lista)"
   ]
  },
  {
   "cell_type": "code",
   "execution_count": 56,
   "id": "62e50f8f",
   "metadata": {},
   "outputs": [],
   "source": [
    "a = [1, 2, 3, 4, 5]\n",
    "\n",
    "# Para criar um Array sempre tem que colocar os parêntes e dento dos Cocheites EX: \n",
    "b = np.array([1, 2, 3, 4, 5])"
   ]
  },
  {
   "cell_type": "code",
   "execution_count": 57,
   "id": "3a430c3f",
   "metadata": {},
   "outputs": [
    {
     "name": "stdout",
     "output_type": "stream",
     "text": [
      "[1, 2, 3, 4, 5]\n",
      "[1 2 3 4 5]\n"
     ]
    }
   ],
   "source": [
    "print(a)\n",
    "print(b)"
   ]
  },
  {
   "cell_type": "markdown",
   "id": "ba1a624d",
   "metadata": {},
   "source": [
    "A lista gasta mais moria que o Array.numpy."
   ]
  },
  {
   "cell_type": "code",
   "execution_count": 58,
   "id": "031b0e6b",
   "metadata": {},
   "outputs": [],
   "source": [
    "# sys.getsizeof(a)"
   ]
  },
  {
   "cell_type": "code",
   "execution_count": 59,
   "id": "9e6ce85b",
   "metadata": {},
   "outputs": [],
   "source": [
    "# b.nbytes"
   ]
  },
  {
   "cell_type": "markdown",
   "id": "989d8883",
   "metadata": {},
   "source": [
    "### Cirando Arrays em 1D, 2D e 3D"
   ]
  },
  {
   "cell_type": "markdown",
   "id": "b6ad1f35",
   "metadata": {},
   "source": [
    "#### Array 1D"
   ]
  },
  {
   "cell_type": "code",
   "execution_count": 60,
   "id": "1a824d1a",
   "metadata": {},
   "outputs": [
    {
     "name": "stdout",
     "output_type": "stream",
     "text": [
      "[1 2 3]\n"
     ]
    }
   ],
   "source": [
    "# Array 1D\n",
    "d1 = np.array([1, 2, 3])\n",
    "\n",
    "print(d1)"
   ]
  },
  {
   "cell_type": "code",
   "execution_count": 61,
   "id": "a316fea3",
   "metadata": {},
   "outputs": [
    {
     "data": {
      "text/plain": [
       "(3,)"
      ]
     },
     "execution_count": 61,
     "metadata": {},
     "output_type": "execute_result"
    }
   ],
   "source": [
    "d1.shape"
   ]
  },
  {
   "cell_type": "code",
   "execution_count": 62,
   "id": "18777456",
   "metadata": {},
   "outputs": [
    {
     "data": {
      "text/plain": [
       "1"
      ]
     },
     "execution_count": 62,
     "metadata": {},
     "output_type": "execute_result"
    }
   ],
   "source": [
    "d1.ndim"
   ]
  },
  {
   "cell_type": "code",
   "execution_count": 63,
   "id": "3caa5791",
   "metadata": {},
   "outputs": [
    {
     "data": {
      "text/plain": [
       "dtype('int64')"
      ]
     },
     "execution_count": 63,
     "metadata": {},
     "output_type": "execute_result"
    }
   ],
   "source": [
    "d1.dtype"
   ]
  },
  {
   "cell_type": "markdown",
   "id": "fae148c4",
   "metadata": {},
   "source": [
    "#### Array 2D"
   ]
  },
  {
   "cell_type": "code",
   "execution_count": 64,
   "id": "79119d91",
   "metadata": {},
   "outputs": [
    {
     "name": "stdout",
     "output_type": "stream",
     "text": [
      "[[1 2 3]\n",
      " [1 2 3]]\n"
     ]
    }
   ],
   "source": [
    "# Array 2D\n",
    "d2 = np.array([[1, 2, 3], [1, 2, 3]])\n",
    "\n",
    "print(d2)"
   ]
  },
  {
   "cell_type": "code",
   "execution_count": 65,
   "id": "aee7dcd0",
   "metadata": {},
   "outputs": [
    {
     "data": {
      "text/plain": [
       "(2, 3)"
      ]
     },
     "execution_count": 65,
     "metadata": {},
     "output_type": "execute_result"
    }
   ],
   "source": [
    "d2.shape"
   ]
  },
  {
   "cell_type": "code",
   "execution_count": 66,
   "id": "d3b750f2",
   "metadata": {},
   "outputs": [
    {
     "data": {
      "text/plain": [
       "2"
      ]
     },
     "execution_count": 66,
     "metadata": {},
     "output_type": "execute_result"
    }
   ],
   "source": [
    "d2.ndim"
   ]
  },
  {
   "cell_type": "code",
   "execution_count": 67,
   "id": "aab2da4c",
   "metadata": {},
   "outputs": [
    {
     "data": {
      "text/plain": [
       "dtype('int64')"
      ]
     },
     "execution_count": 67,
     "metadata": {},
     "output_type": "execute_result"
    }
   ],
   "source": [
    "d2.dtype"
   ]
  },
  {
   "cell_type": "markdown",
   "id": "a30c88c9",
   "metadata": {},
   "source": [
    "#### Array 3D"
   ]
  },
  {
   "cell_type": "code",
   "execution_count": 68,
   "id": "8a5497aa",
   "metadata": {},
   "outputs": [
    {
     "name": "stdout",
     "output_type": "stream",
     "text": [
      "[[[1 2]\n",
      "  [3 4]]\n",
      "\n",
      " [[5 6]\n",
      "  [7 8]]]\n"
     ]
    }
   ],
   "source": [
    "# Array 3D\n",
    "d3 = np.array([[[1, 2], [3, 4]], [[5, 6], [7, 8]]])\n",
    "\n",
    "print(d3)"
   ]
  },
  {
   "cell_type": "code",
   "execution_count": 69,
   "id": "6bbf71e9",
   "metadata": {},
   "outputs": [
    {
     "data": {
      "text/plain": [
       "(2, 2, 2)"
      ]
     },
     "execution_count": 69,
     "metadata": {},
     "output_type": "execute_result"
    }
   ],
   "source": [
    "d3.shape"
   ]
  },
  {
   "cell_type": "code",
   "execution_count": 70,
   "id": "288a5b52",
   "metadata": {},
   "outputs": [
    {
     "data": {
      "text/plain": [
       "3"
      ]
     },
     "execution_count": 70,
     "metadata": {},
     "output_type": "execute_result"
    }
   ],
   "source": [
    "d3.ndim"
   ]
  },
  {
   "cell_type": "code",
   "execution_count": 71,
   "id": "569249c0",
   "metadata": {},
   "outputs": [
    {
     "data": {
      "text/plain": [
       "dtype('int64')"
      ]
     },
     "execution_count": 71,
     "metadata": {},
     "output_type": "execute_result"
    }
   ],
   "source": [
    "d3.dtype"
   ]
  },
  {
   "cell_type": "markdown",
   "id": "d61283b4",
   "metadata": {},
   "source": [
    "### Somando daus Arrays"
   ]
  },
  {
   "cell_type": "code",
   "execution_count": 77,
   "id": "49334f7d",
   "metadata": {},
   "outputs": [],
   "source": [
    "a = [2, 3, 4]\n",
    "b = [2, 3, 4]"
   ]
  },
  {
   "cell_type": "code",
   "execution_count": 78,
   "id": "45b6f9b6",
   "metadata": {},
   "outputs": [
    {
     "data": {
      "text/plain": [
       "[2, 3, 4, 2, 3, 4]"
      ]
     },
     "execution_count": 78,
     "metadata": {},
     "output_type": "execute_result"
    }
   ],
   "source": [
    "resultado = a + b\n",
    "\n",
    "resultado"
   ]
  },
  {
   "cell_type": "code",
   "execution_count": 74,
   "id": "8756c9ce",
   "metadata": {},
   "outputs": [],
   "source": [
    "a = np.array([2, 3, 4])\n",
    "b = np.array([2, 3, 4])"
   ]
  },
  {
   "cell_type": "code",
   "execution_count": 76,
   "id": "33a2bf20",
   "metadata": {},
   "outputs": [
    {
     "name": "stdout",
     "output_type": "stream",
     "text": [
      "[4 6 8]\n"
     ]
    }
   ],
   "source": [
    "resultado = np.add(a, b)\n",
    "\n",
    "print(resultado)"
   ]
  },
  {
   "cell_type": "markdown",
   "id": "e1865872",
   "metadata": {},
   "source": [
    "### Selecionar intens do Array"
   ]
  },
  {
   "cell_type": "code",
   "execution_count": 80,
   "id": "c2a7ed22",
   "metadata": {},
   "outputs": [
    {
     "name": "stdout",
     "output_type": "stream",
     "text": [
      "[[2 3 4 5]\n",
      " [6 7 8 9]]\n"
     ]
    }
   ],
   "source": [
    "a = np.array([[2, 3, 4, 5], [6, 7, 8, 9]])\n",
    "\n",
    "print(a)"
   ]
  },
  {
   "cell_type": "markdown",
   "id": "30284a6b",
   "metadata": {},
   "source": [
    "Para selecioanr um intem: Passa os index EX:\n",
    "\n",
    "Array [row, colu] (Linha e Coluna)"
   ]
  },
  {
   "cell_type": "code",
   "execution_count": null,
   "id": "2e023d5b",
   "metadata": {},
   "outputs": [
    {
     "name": "stdout",
     "output_type": "stream",
     "text": [
      "8\n",
      "8\n"
     ]
    }
   ],
   "source": [
    "a[1,2]\n",
    "\n",
    "print(a[1,-2]) # Também pode fazer a contagem regreciva\n",
    "print(a[1,2])"
   ]
  },
  {
   "cell_type": "code",
   "execution_count": null,
   "id": "218bbec5",
   "metadata": {},
   "outputs": [],
   "source": [
    "# Para mostra só uma Row (Linha)\n",
    "\n",
    "a[0,:] # 0 Linhas (Row) e : Todas a colunas"
   ]
  },
  {
   "cell_type": "code",
   "execution_count": null,
   "id": "3b4e46e6",
   "metadata": {},
   "outputs": [],
   "source": [
    "# Para mostra as linhas e delimtaer as colunas\n",
    "\n",
    "a[:, 1] # Vai mostrar todas alinhas da coluna 1"
   ]
  },
  {
   "cell_type": "markdown",
   "id": "c80bd897",
   "metadata": {},
   "source": [
    "### Dicas de Numpy\n",
    "\n",
    "Leia a Documetação e Pratique os Exemplos"
   ]
  }
 ],
 "metadata": {
  "kernelspec": {
   "display_name": "Python 3",
   "language": "python",
   "name": "python3"
  },
  "language_info": {
   "codemirror_mode": {
    "name": "ipython",
    "version": 3
   },
   "file_extension": ".py",
   "mimetype": "text/x-python",
   "name": "python",
   "nbconvert_exporter": "python",
   "pygments_lexer": "ipython3",
   "version": "3.11.9"
  }
 },
 "nbformat": 4,
 "nbformat_minor": 5
}
