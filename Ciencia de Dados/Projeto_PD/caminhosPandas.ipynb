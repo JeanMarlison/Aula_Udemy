{
 "cells": [
  {
   "cell_type": "code",
   "execution_count": 2,
   "id": "b194ad03",
   "metadata": {},
   "outputs": [],
   "source": [
    "import pandas as pd"
   ]
  },
  {
   "cell_type": "markdown",
   "id": "6191cadf",
   "metadata": {},
   "source": [
    "## Abrindo os tipos de Aquivos Pandas"
   ]
  },
  {
   "cell_type": "code",
   "execution_count": 3,
   "id": "1c28a092",
   "metadata": {},
   "outputs": [],
   "source": [
    "# Vou usar minha vareavel com o nome de dados\n",
    "\n",
    "# dados = pd.read_csv('CaminhoDoArquivoNaMesmaPartaEm.csv')\n",
    "\n",
    "# dados_xlsx = pd.read_excel('CaminhoDoArquivoNaMesmaPartaEm.xlxs')\n",
    "\n",
    "# dados_txt = pd.read_csv('CaminhoDoArquivoNaMesmaPartaEm.txt', delimiter = '\\t')\n",
    "\n",
    "# dados_html = pd.read_html(CaminhoWeb)\n"
   ]
  },
  {
   "cell_type": "code",
   "execution_count": 4,
   "id": "104ac2ee",
   "metadata": {},
   "outputs": [],
   "source": [
    "# dados\n",
    "# Essa chamada ferai os dados aparecerem na tela. "
   ]
  },
  {
   "cell_type": "markdown",
   "id": "5e1117bc",
   "metadata": {},
   "source": [
    "## realizando Leitura de Dados"
   ]
  },
  {
   "cell_type": "code",
   "execution_count": 5,
   "id": "2f3989fe",
   "metadata": {},
   "outputs": [],
   "source": [
    "# dados.head() Isso mostra os 5 primeirso linhas, se que quiser um numero espefico basta colocar dentros dos ( ), dados.head(2)"
   ]
  },
  {
   "cell_type": "code",
   "execution_count": 6,
   "id": "c56f2951",
   "metadata": {},
   "outputs": [],
   "source": [
    "# dados.tail() Isso mostra os 5 ultimas linhas, se que quiser um numero espefico basta colocar dentros dos ( ), dados.tail(8)"
   ]
  },
  {
   "cell_type": "code",
   "execution_count": 7,
   "id": "824a7cd4",
   "metadata": {},
   "outputs": [],
   "source": [
    "# dados.columns Aqui vou ver so os nomes das colunas"
   ]
  },
  {
   "cell_type": "code",
   "execution_count": 8,
   "id": "e34ef1b4",
   "metadata": {},
   "outputs": [],
   "source": [
    "#dados.index Para ver as informações das linhas"
   ]
  },
  {
   "cell_type": "code",
   "execution_count": 9,
   "id": "ea2e330c",
   "metadata": {},
   "outputs": [],
   "source": [
    "# dados['NomeDeUmaColuna','OutraColuna','QuantasColunasEuQuiser']"
   ]
  },
  {
   "cell_type": "code",
   "execution_count": 10,
   "id": "36ccec34",
   "metadata": {},
   "outputs": [],
   "source": [
    "# dados.iloc[1] Localização Especifica pode ser dados.iloc[0:4] via mostras as linhas de 0 a 4"
   ]
  },
  {
   "cell_type": "markdown",
   "id": "491c963d",
   "metadata": {},
   "source": [
    "## Função Loc e Sorted"
   ]
  },
  {
   "cell_type": "code",
   "execution_count": null,
   "id": "aee87a19",
   "metadata": {},
   "outputs": [],
   "source": [
    "# dados.loc[dados['NomeDaColuna'] == 'QuemVouFiltrar/Localizar']"
   ]
  },
  {
   "cell_type": "code",
   "execution_count": null,
   "id": "70d6470c",
   "metadata": {},
   "outputs": [],
   "source": [
    "# dados.sort_values('NomeColuna') Vai ordenar crescente pela coluna escolida\n",
    "\n",
    "# dados.sort_values('NomeColuna', ascending = False) Vai ordenar pela coluna escolida vai de ordem decresente\n",
    "\n",
    "# dados.sort_values(['NomeColuna', 'NomeOutraColuna])  Vou usar as duas para poder filtrar."
   ]
  },
  {
   "cell_type": "markdown",
   "id": "b667eefc",
   "metadata": {},
   "source": [
    "## Adicionando uma Coluna"
   ]
  },
  {
   "cell_type": "code",
   "execution_count": null,
   "id": "5330f5da",
   "metadata": {},
   "outputs": [],
   "source": [
    "# dados['NovaColuna'] = dados ['NomeDeUmaColuna'] + dados['OutraColuna']\n",
    "\n",
    "# dados   Eu eu somei duas colunas e coloque o resoltado em uma nova Vareivel e deposi chamei a vareavel"
   ]
  },
  {
   "cell_type": "code",
   "execution_count": 12,
   "id": "0e36bd34",
   "metadata": {},
   "outputs": [],
   "source": [
    "# dados = dados[['coluna01', 'Coluna02']]\n",
    "\n",
    "# dados\n",
    "\n",
    "# dados.sort_valures('ColunaParaFiltro', ascending = False) Vai mostrar o resltado do maior para o menor"
   ]
  },
  {
   "cell_type": "markdown",
   "id": "52162933",
   "metadata": {},
   "source": [
    "## Esporta os Dados"
   ]
  },
  {
   "cell_type": "markdown",
   "id": "b97011e9",
   "metadata": {},
   "source": [
    "#### Expotacação em CSV"
   ]
  },
  {
   "cell_type": "code",
   "execution_count": null,
   "id": "12ad5916",
   "metadata": {},
   "outputs": [],
   "source": [
    "# dados.to_csv('NomeParaOArquivo.csv') Aqui vai exporta e colocar uma coluna automaticamente a mais para o index ou id\n",
    "\n",
    "# dados.to_csv('NomeParaOArquivo.csv', index=False) Aqui o index/id não vai ser ser adicionado"
   ]
  },
  {
   "cell_type": "markdown",
   "id": "a06cedf2",
   "metadata": {},
   "source": [
    "#### Expotacação em Execel"
   ]
  },
  {
   "cell_type": "code",
   "execution_count": null,
   "id": "0903a5c2",
   "metadata": {},
   "outputs": [],
   "source": [
    "# dados.to_excel('NomeNovoaquivo.xlsx') Aqui vai exporta e colocar uma coluna automaticamente a mais para o index / id\n",
    "\n",
    "# dados.to_excel('NomeNovoaquivo.xlsx', index=False) Aqui o index/id não vai ser ser adicionado"
   ]
  },
  {
   "cell_type": "markdown",
   "id": "5403b5b6",
   "metadata": {},
   "source": [
    "#### Expotacação em TXT"
   ]
  },
  {
   "cell_type": "code",
   "execution_count": null,
   "id": "94e71f4d",
   "metadata": {},
   "outputs": [],
   "source": [
    "# dados.to_csv('NomeNovoaquivo.txt') Aqui vai exporta e colocar uma coluna automaticamente a mais para o index / id\n",
    "\n",
    "# dados.to_csv('NomeNovoaquivo.txt',  index=False)  Aqui o index/id não vai ser ser adicionado\n",
    "\n",
    "# OBS: Aqui vai ser separado por virgula ( , )\n",
    "\n",
    "# dados.to_csv('NomeNovoaquivo.txt',  index=False, sep='\\t') Aqui vai ser separdo por TAB / Tabulação"
   ]
  }
 ],
 "metadata": {
  "kernelspec": {
   "display_name": "Python 3",
   "language": "python",
   "name": "python3"
  },
  "language_info": {
   "codemirror_mode": {
    "name": "ipython",
    "version": 3
   },
   "file_extension": ".py",
   "mimetype": "text/x-python",
   "name": "python",
   "nbconvert_exporter": "python",
   "pygments_lexer": "ipython3",
   "version": "3.11.9"
  }
 },
 "nbformat": 4,
 "nbformat_minor": 5
}
